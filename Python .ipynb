{
 "cells": [
  {
   "cell_type": "markdown",
   "id": "11a303cf",
   "metadata": {},
   "source": [
    " 1. Develop a python program to read n digit integer number and separate the integer number and display each digit"
   ]
  },
  {
   "cell_type": "code",
   "execution_count": 13,
   "id": "c1b07ada",
   "metadata": {},
   "outputs": [
    {
     "name": "stdout",
     "output_type": "stream",
     "text": [
      "enter the number of digits:4\n",
      "enter a 4-digit integer:5678\n",
      "5\n",
      "6\n",
      "7\n",
      "8\n"
     ]
    }
   ],
   "source": [
    "n=int(input(\"enter the number of digits:\"))\n",
    "if n>0:\n",
    "    number=int(input(f\"enter a {n}-digit integer:\"))\n",
    "    if number>=10**(n-1) and number<10**n:\n",
    "        for i in range (n):\n",
    "            digit=number//(10**(n-1))\n",
    "            print(digit)\n",
    "            number%=10**(n-1)\n",
    "            n-=1\n",
    "    else:\n",
    "        print(f\"please enter a {n}-digit integer\")\n",
    "else:\n",
    "    print(\"please enter a valid number of digits (greater than 0).\")"
   ]
  },
  {
   "cell_type": "markdown",
   "id": "3a651480",
   "metadata": {},
   "source": [
    " 2. Develop a python program to accept the number and display then in sorted order using a minimum number of if else statement"
   ]
  },
  {
   "cell_type": "code",
   "execution_count": 12,
   "id": "3d4a2b18",
   "metadata": {},
   "outputs": [
    {
     "name": "stdout",
     "output_type": "stream",
     "text": [
      "enter the first number:7\n",
      "enter the second number:1\n",
      "enter the third number:9\n",
      "enter the fourth number:3\n",
      "the sorted numbers are : 9 7 3 1\n"
     ]
    }
   ],
   "source": [
    "a=int(input(\"enter the first number:\"))\n",
    "b=int(input(\"enter the second number:\"))\n",
    "c=int(input(\"enter the third number:\"))\n",
    "d=int(input(\"enter the fourth number:\"))\n",
    "if a<b:a,b=b,a\n",
    "if c<d:c,d=d,c\n",
    "if a<c:a,c=c,a\n",
    "if b<d:b,d=d,b\n",
    "if b<c:b,c=c,b\n",
    "print(\"the sorted numbers are :\",a,b,c,d)"
   ]
  },
  {
   "cell_type": "code",
   "execution_count": 17,
   "id": "4233a76a",
   "metadata": {},
   "outputs": [
    {
     "name": "stdout",
     "output_type": "stream",
     "text": [
      "enter the name\n"
     ]
    }
   ],
   "source": [
    "print(\"enter the \"+\"name\")"
   ]
  },
  {
   "cell_type": "code",
   "execution_count": null,
   "id": "87896216",
   "metadata": {},
   "outputs": [],
   "source": []
  }
 ],
 "metadata": {
  "kernelspec": {
   "display_name": "Python 3 (ipykernel)",
   "language": "python",
   "name": "python3"
  },
  "language_info": {
   "codemirror_mode": {
    "name": "ipython",
    "version": 3
   },
   "file_extension": ".py",
   "mimetype": "text/x-python",
   "name": "python",
   "nbconvert_exporter": "python",
   "pygments_lexer": "ipython3",
   "version": "3.10.9"
  }
 },
 "nbformat": 4,
 "nbformat_minor": 5
}
