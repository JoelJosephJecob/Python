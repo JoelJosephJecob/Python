{
 "cells": [
  {
   "cell_type": "markdown",
   "id": "fb62fc6c",
   "metadata": {},
   "source": [
    "1.Develop a python program to read n digit integer number and separate the integer number and display each digit\n"
   ]
  },
  {
   "cell_type": "code",
   "execution_count": 1,
   "id": "5695cccb",
   "metadata": {},
   "outputs": [
    {
     "name": "stdout",
     "output_type": "stream",
     "text": [
      "enter the number of digits:4\n",
      "enter a 4-digit integer:5678\n",
      "5\n",
      "6\n",
      "7\n",
      "8\n"
     ]
    }
   ],
   "source": [
    "n=int(input(\"enter the number of digits:\"))\n",
    "if n>0:\n",
    "    number=int(input(f\"enter a {n}-digit integer:\"))\n",
    "    if number>=10**(n-1) and number<10**n:\n",
    "        for i in range (n):\n",
    "            digit=number//(10**(n-1))\n",
    "            print(digit)\n",
    "            number%=10**(n-1)\n",
    "            n-=1\n",
    "    else:\n",
    "        print(f\"please enter a {n}-digit integer\")\n",
    "else:\n",
    "    print(\"please enter a valid number of digits (greater than 0).\")"
   ]
  },
  {
   "cell_type": "markdown",
   "id": "c10c14b6",
   "metadata": {},
   "source": [
    "2.Develop a python program to accept the number and display then in sorted order using a minimum number of if else statement"
   ]
  },
  {
   "cell_type": "code",
   "execution_count": 2,
   "id": "a46d5c84",
   "metadata": {},
   "outputs": [
    {
     "name": "stdout",
     "output_type": "stream",
     "text": [
      "enter the first number:7\n",
      "enter the second number:1\n",
      "enter the third number:9\n",
      "enter the fourth number:3\n",
      "the sorted numbers are : 9 7 3 1\n"
     ]
    }
   ],
   "source": [
    "a=int(input(\"enter the first number:\"))\n",
    "b=int(input(\"enter the second number:\"))\n",
    "c=int(input(\"enter the third number:\"))\n",
    "d=int(input(\"enter the fourth number:\"))\n",
    "if a<b:a,b=b,a\n",
    "if c<d:c,d=d,c\n",
    "if a<c:a,c=c,a\n",
    "if b<d:b,d=d,b\n",
    "if b<c:b,c=c,b\n",
    "print(\"the sorted numbers are :\",a,b,c,d)"
   ]
  },
  {
   "cell_type": "markdown",
   "id": "a57af5ab",
   "metadata": {},
   "source": [
    "4.Develop a program for checking if a given n digit number is palindrome or not"
   ]
  },
  {
   "cell_type": "code",
   "execution_count": 11,
   "id": "bb129308",
   "metadata": {},
   "outputs": [
    {
     "name": "stdout",
     "output_type": "stream",
     "text": [
      "enter an n-digit number:12321\n",
      "palindrome\n"
     ]
    }
   ],
   "source": [
    "number=int(input(\"enter an n-digit number:\"))\n",
    "original_number=number\n",
    "reversed_number=0\n",
    "while number>0:\n",
    "    digit=number%10\n",
    "    reversed_number=reversed_number*10+digit\n",
    "    number//=10\n",
    "if original_number==reversed_number:\n",
    "    print(\"palindrome\")\n",
    "else:\n",
    "    print(\"not a palindrome\")\n"
   ]
  },
  {
   "cell_type": "markdown",
   "id": "cda717f9",
   "metadata": {},
   "source": [
    "5.Develop a python script to display a muiltiplication table for given integer"
   ]
  },
  {
   "cell_type": "code",
   "execution_count": 8,
   "id": "6c2429ed",
   "metadata": {},
   "outputs": [
    {
     "name": "stdout",
     "output_type": "stream",
     "text": [
      "enter an integer for the multiplication table:3\n",
      "multiplication table for 3:\n",
      "3*1=3\n",
      "3*2=6\n",
      "3*3=9\n",
      "3*4=12\n",
      "3*5=15\n",
      "3*6=18\n",
      "3*7=21\n",
      "3*8=24\n",
      "3*9=27\n",
      "3*10=30\n"
     ]
    }
   ],
   "source": [
    "n=int(input(\"enter an integer for the multiplication table:\"))\n",
    "print(f\"multiplication table for {n}:\")\n",
    "for i  in range (1,11):\n",
    "    result=n*i\n",
    "    print(f\"{n}*{i}={result}\")"
   ]
  },
  {
   "cell_type": "code",
   "execution_count": null,
   "id": "a17770cd",
   "metadata": {},
   "outputs": [],
   "source": []
  }
 ],
 "metadata": {
  "kernelspec": {
   "display_name": "Python 3 (ipykernel)",
   "language": "python",
   "name": "python3"
  },
  "language_info": {
   "codemirror_mode": {
    "name": "ipython",
    "version": 3
   },
   "file_extension": ".py",
   "mimetype": "text/x-python",
   "name": "python",
   "nbconvert_exporter": "python",
   "pygments_lexer": "ipython3",
   "version": "3.10.9"
  }
 },
 "nbformat": 4,
 "nbformat_minor": 5
}
