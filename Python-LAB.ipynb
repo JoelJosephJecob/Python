{
 "cells": [
  {
   "cell_type": "markdown",
   "id": "fb62fc6c",
   "metadata": {},
   "source": [
    "1.Develop a python program to read n digit integer number and separate the integer number and display each digit\n"
   ]
  },
  {
   "cell_type": "code",
   "execution_count": 1,
   "id": "5695cccb",
   "metadata": {},
   "outputs": [
    {
     "name": "stdout",
     "output_type": "stream",
     "text": [
      "enter the number of digits:4\n",
      "enter a 4-digit integer:5678\n",
      "5\n",
      "6\n",
      "7\n",
      "8\n"
     ]
    }
   ],
   "source": [
    "n=int(input(\"enter the number of digits:\"))\n",
    "if n>0:\n",
    "    number=int(input(f\"enter a {n}-digit integer:\"))\n",
    "    if number>=10**(n-1) and number<10**n:\n",
    "        for i in range (n):\n",
    "            digit=number//(10**(n-1))\n",
    "            print(digit)\n",
    "            number%=10**(n-1)\n",
    "            n-=1\n",
    "    else:\n",
    "        print(f\"please enter a {n}-digit integer\")\n",
    "else:\n",
    "    print(\"please enter a valid number of digits (greater than 0).\")"
   ]
  },
  {
   "cell_type": "markdown",
   "id": "c10c14b6",
   "metadata": {},
   "source": [
    "2.Develop a python program to accept the number and display then in sorted order using a minimum number of if else statement"
   ]
  },
  {
   "cell_type": "code",
   "execution_count": 2,
   "id": "a46d5c84",
   "metadata": {},
   "outputs": [
    {
     "name": "stdout",
     "output_type": "stream",
     "text": [
      "enter the first number:7\n",
      "enter the second number:1\n",
      "enter the third number:9\n",
      "enter the fourth number:3\n",
      "the sorted numbers are : 9 7 3 1\n"
     ]
    }
   ],
   "source": [
    "a=int(input(\"enter the first number:\"))\n",
    "b=int(input(\"enter the second number:\"))\n",
    "c=int(input(\"enter the third number:\"))\n",
    "d=int(input(\"enter the fourth number:\"))\n",
    "if a<b:a,b=b,a\n",
    "if c<d:c,d=d,c\n",
    "if a<c:a,c=c,a\n",
    "if b<d:b,d=d,b\n",
    "if b<c:b,c=c,b\n",
    "print(\"the sorted numbers are :\",a,b,c,d)"
   ]
  },
  {
   "cell_type": "markdown",
   "id": "a57af5ab",
   "metadata": {},
   "source": [
    "4.Develop a program for checking if a given n digit number is palindrome or not"
   ]
  },
  {
   "cell_type": "code",
   "execution_count": 11,
   "id": "bb129308",
   "metadata": {},
   "outputs": [
    {
     "name": "stdout",
     "output_type": "stream",
     "text": [
      "enter an n-digit number:12321\n",
      "palindrome\n"
     ]
    }
   ],
   "source": [
    "number=int(input(\"enter an n-digit number:\"))\n",
    "original_number=number\n",
    "reversed_number=0\n",
    "while number>0:\n",
    "    digit=number%10\n",
    "    reversed_number=reversed_number*10+digit\n",
    "    number//=10\n",
    "if original_number==reversed_number:\n",
    "    print(\"palindrome\")\n",
    "else:\n",
    "    print(\"not a palindrome\")\n"
   ]
  },
  {
   "cell_type": "markdown",
   "id": "cda717f9",
   "metadata": {},
   "source": [
    "5.Develop a python script to display a muiltiplication table for given integer"
   ]
  },
  {
   "cell_type": "code",
   "execution_count": 8,
   "id": "6c2429ed",
   "metadata": {},
   "outputs": [
    {
     "name": "stdout",
     "output_type": "stream",
     "text": [
      "enter an integer for the multiplication table:3\n",
      "multiplication table for 3:\n",
      "3*1=3\n",
      "3*2=6\n",
      "3*3=9\n",
      "3*4=12\n",
      "3*5=15\n",
      "3*6=18\n",
      "3*7=21\n",
      "3*8=24\n",
      "3*9=27\n",
      "3*10=30\n"
     ]
    }
   ],
   "source": [
    "n=int(input(\"enter an integer for the multiplication table:\"))\n",
    "print(f\"multiplication table for {n}:\")\n",
    "for i  in range (1,11):\n",
    "    result=n*i\n",
    "    print(f\"{n}*{i}={result}\")"
   ]
  },
  {
   "cell_type": "markdown",
   "id": "407ad37b",
   "metadata": {},
   "source": [
    "3.Develop  python scripts to calculate the mean,median,mode,variance and standard deviation of n integer number"
   ]
  },
  {
   "cell_type": "code",
   "execution_count": 21,
   "id": "a658d667",
   "metadata": {},
   "outputs": [
    {
     "name": "stdout",
     "output_type": "stream",
     "text": [
      "enter the number of elements:6\n",
      "enter numbers1:4\n",
      "enter numbers2:8\n",
      "enter numbers3:6\n",
      "enter numbers4:5\n",
      "enter numbers5:3\n",
      "enter numbers6:9\n",
      "mean:5.833333333333333\n",
      "median:5.5\n",
      "mode:No mode\n",
      "sample variance:5.366666666666667\n",
      "population variance:4.472222222222222\n",
      "sample standard deviation:2.316606713852541\n",
      "population standard deviation:2.1147629234082532\n"
     ]
    }
   ],
   "source": [
    "n=int(input(\"enter the number of elements:\"))\n",
    "numbers=[int(input(f\"enter numbers{i+1}:\"))for i in range(n)]\n",
    "mean=sum(numbers)/n\n",
    "numbers.sort()\n",
    "if n%2==0:\n",
    "    median=(numbers[n//2-1]+numbers[n//2])/2\n",
    "else:\n",
    "    median=numbers[n//2]\n",
    "frequency={num:numbers.count(num)for num in numbers}\n",
    "max_count=max(frequency.values())\n",
    "mode=[k for k, v in frequency.items() if v==max_count]\n",
    "if len(mode)==n:\n",
    "    mode=\"No mode\"\n",
    "mean_difference_squared_sum=sum((x-mean)**2 for x in numbers)\n",
    "variance_sample=mean_difference_squared_sum/(n-1) if n>1 else 0\n",
    "variance_population=mean_difference_squared_sum/n\n",
    "std_deviation_sample=variance_sample**0.5\n",
    "std_deviation_population=variance_population**0.5\n",
    "print(f\"mean:{mean}\")\n",
    "print(f\"median:{median}\")\n",
    "print(f\"mode:{mode}\")\n",
    "print(f\"sample variance:{variance_sample}\")\n",
    "print(f\"population variance:{variance_population}\")\n",
    "print(f\"sample standard deviation:{std_deviation_sample}\")\n",
    "print(f\"population standard deviation:{std_deviation_population}\")"
   ]
  },
  {
   "cell_type": "code",
   "execution_count": 22,
   "id": "5e8884a4",
   "metadata": {},
   "outputs": [
    {
     "name": "stdout",
     "output_type": "stream",
     "text": [
      "5\n",
      "4\n",
      "3\n",
      "2\n",
      "1\n",
      "loop finished without break:\n"
     ]
    }
   ],
   "source": [
    "n=5\n",
    "while n>0:\n",
    "    print(n)\n",
    "    n-=1\n",
    "else:\n",
    "    print(\"loop finished without break:\")\n",
    "        \n",
    "    "
   ]
  },
  {
   "cell_type": "code",
   "execution_count": 24,
   "id": "221ad43b",
   "metadata": {},
   "outputs": [
    {
     "name": "stdout",
     "output_type": "stream",
     "text": [
      "Factorial of 1is:\n",
      "1\n",
      "Factorial of 2is:\n",
      "1\n",
      "2\n",
      "Factorial of 3is:\n",
      "1\n",
      "2\n",
      "6\n"
     ]
    }
   ],
   "source": [
    "n=range(1,4)\n",
    "for j in n:\n",
    "    print(\"Factorial of \"+str(j)+\"is:\")\n",
    "    mul=1\n",
    "    for i in range(1,j+1):\n",
    "        mul=mul*i\n",
    "        print(mul)"
   ]
  },
  {
   "cell_type": "code",
   "execution_count": null,
   "id": "7fa043e3",
   "metadata": {},
   "outputs": [],
   "source": []
  }
 ],
 "metadata": {
  "kernelspec": {
   "display_name": "Python 3 (ipykernel)",
   "language": "python",
   "name": "python3"
  },
  "language_info": {
   "codemirror_mode": {
    "name": "ipython",
    "version": 3
   },
   "file_extension": ".py",
   "mimetype": "text/x-python",
   "name": "python",
   "nbconvert_exporter": "python",
   "pygments_lexer": "ipython3",
   "version": "3.10.9"
  }
 },
 "nbformat": 4,
 "nbformat_minor": 5
}
