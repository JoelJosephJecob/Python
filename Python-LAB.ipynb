{
 "cells": [
  {
   "cell_type": "markdown",
   "id": "fb62fc6c",
   "metadata": {},
   "source": [
    "1.Develop a python program to read n digit integer number and separate the integer number and display each digit\n"
   ]
  },
  {
   "cell_type": "code",
   "execution_count": 1,
   "id": "5695cccb",
   "metadata": {},
   "outputs": [
    {
     "name": "stdout",
     "output_type": "stream",
     "text": [
      "enter the number of digits:4\n",
      "enter a 4-digit integer:5678\n",
      "5\n",
      "6\n",
      "7\n",
      "8\n"
     ]
    }
   ],
   "source": [
    "n=int(input(\"enter the number of digits:\"))\n",
    "if n>0:\n",
    "    number=int(input(f\"enter a {n}-digit integer:\"))\n",
    "    if number>=10**(n-1) and number<10**n:\n",
    "        for i in range (n):\n",
    "            digit=number//(10**(n-1))\n",
    "            print(digit)\n",
    "            number%=10**(n-1)\n",
    "            n-=1\n",
    "    else:\n",
    "        print(f\"please enter a {n}-digit integer\")\n",
    "else:\n",
    "    print(\"please enter a valid number of digits (greater than 0).\")"
   ]
  },
  {
   "cell_type": "markdown",
   "id": "c10c14b6",
   "metadata": {},
   "source": [
    "2.Develop a python program to accept the number and display then in sorted order using a minimum number of if else statement"
   ]
  },
  {
   "cell_type": "code",
   "execution_count": 2,
   "id": "a46d5c84",
   "metadata": {},
   "outputs": [
    {
     "name": "stdout",
     "output_type": "stream",
     "text": [
      "enter the first number:7\n",
      "enter the second number:1\n",
      "enter the third number:9\n",
      "enter the fourth number:3\n",
      "the sorted numbers are : 9 7 3 1\n"
     ]
    }
   ],
   "source": [
    "a=int(input(\"enter the first number:\"))\n",
    "b=int(input(\"enter the second number:\"))\n",
    "c=int(input(\"enter the third number:\"))\n",
    "d=int(input(\"enter the fourth number:\"))\n",
    "if a<b:a,b=b,a\n",
    "if c<d:c,d=d,c\n",
    "if a<c:a,c=c,a\n",
    "if b<d:b,d=d,b\n",
    "if b<c:b,c=c,b\n",
    "print(\"the sorted numbers are :\",a,b,c,d)"
   ]
  },
  {
   "cell_type": "markdown",
   "id": "a57af5ab",
   "metadata": {},
   "source": [
    "4.Develop a program for checking if a given n digit number is palindrome or not"
   ]
  },
  {
   "cell_type": "code",
   "execution_count": 11,
   "id": "bb129308",
   "metadata": {},
   "outputs": [
    {
     "name": "stdout",
     "output_type": "stream",
     "text": [
      "enter an n-digit number:12321\n",
      "palindrome\n"
     ]
    }
   ],
   "source": [
    "number=int(input(\"enter an n-digit number:\"))\n",
    "original_number=number\n",
    "reversed_number=0\n",
    "while number>0:\n",
    "    digit=number%10\n",
    "    reversed_number=reversed_number*10+digit\n",
    "    number//=10\n",
    "if original_number==reversed_number:\n",
    "    print(\"palindrome\")\n",
    "else:\n",
    "    print(\"not a palindrome\")\n"
   ]
  },
  {
   "cell_type": "markdown",
   "id": "cda717f9",
   "metadata": {},
   "source": [
    "5.Develop a python script to display a muiltiplication table for given integer"
   ]
  },
  {
   "cell_type": "code",
   "execution_count": 8,
   "id": "6c2429ed",
   "metadata": {},
   "outputs": [
    {
     "name": "stdout",
     "output_type": "stream",
     "text": [
      "enter an integer for the multiplication table:3\n",
      "multiplication table for 3:\n",
      "3*1=3\n",
      "3*2=6\n",
      "3*3=9\n",
      "3*4=12\n",
      "3*5=15\n",
      "3*6=18\n",
      "3*7=21\n",
      "3*8=24\n",
      "3*9=27\n",
      "3*10=30\n"
     ]
    }
   ],
   "source": [
    "n=int(input(\"enter an integer for the multiplication table:\"))\n",
    "print(f\"multiplication table for {n}:\")\n",
    "for i  in range (1,11):\n",
    "    result=n*i\n",
    "    print(f\"{n}*{i}={result}\")"
   ]
  },
  {
   "cell_type": "markdown",
   "id": "407ad37b",
   "metadata": {},
   "source": [
    "3.Develop  python scripts to calculate the mean,median,mode,variance and standard deviation of n integer number"
   ]
  },
  {
   "cell_type": "code",
   "execution_count": 21,
   "id": "a658d667",
   "metadata": {},
   "outputs": [
    {
     "name": "stdout",
     "output_type": "stream",
     "text": [
      "enter the number of elements:6\n",
      "enter numbers1:4\n",
      "enter numbers2:8\n",
      "enter numbers3:6\n",
      "enter numbers4:5\n",
      "enter numbers5:3\n",
      "enter numbers6:9\n",
      "mean:5.833333333333333\n",
      "median:5.5\n",
      "mode:No mode\n",
      "sample variance:5.366666666666667\n",
      "population variance:4.472222222222222\n",
      "sample standard deviation:2.316606713852541\n",
      "population standard deviation:2.1147629234082532\n"
     ]
    }
   ],
   "source": [
    "n=int(input(\"enter the number of elements:\"))\n",
    "numbers=[int(input(f\"enter numbers{i+1}:\"))for i in range(n)]\n",
    "mean=sum(numbers)/n\n",
    "numbers.sort()\n",
    "if n%2==0:\n",
    "    median=(numbers[n//2-1]+numbers[n//2])/2\n",
    "else:\n",
    "    median=numbers[n//2]\n",
    "frequency={num:numbers.count(num)for num in numbers}\n",
    "max_count=max(frequency.values())\n",
    "mode=[k for k, v in frequency.items() if v==max_count]\n",
    "if len(mode)==n:\n",
    "    mode=\"No mode\"\n",
    "mean_difference_squared_sum=sum((x-mean)**2 for x in numbers)\n",
    "variance_sample=mean_difference_squared_sum/(n-1) if n>1 else 0\n",
    "variance_population=mean_difference_squared_sum/n\n",
    "std_deviation_sample=variance_sample**0.5\n",
    "std_deviation_population=variance_population**0.5\n",
    "print(f\"mean:{mean}\")\n",
    "print(f\"median:{median}\")\n",
    "print(f\"mode:{mode}\")\n",
    "print(f\"sample variance:{variance_sample}\")\n",
    "print(f\"population variance:{variance_population}\")\n",
    "print(f\"sample standard deviation:{std_deviation_sample}\")\n",
    "print(f\"population standard deviation:{std_deviation_population}\")"
   ]
  },
  {
   "cell_type": "code",
   "execution_count": 22,
   "id": "5e8884a4",
   "metadata": {},
   "outputs": [
    {
     "name": "stdout",
     "output_type": "stream",
     "text": [
      "5\n",
      "4\n",
      "3\n",
      "2\n",
      "1\n",
      "loop finished without break:\n"
     ]
    }
   ],
   "source": [
    "n=5\n",
    "while n>0:\n",
    "    print(n)\n",
    "    n-=1\n",
    "else:\n",
    "    print(\"loop finished without break:\")\n",
    "        \n",
    "    "
   ]
  },
  {
   "cell_type": "code",
   "execution_count": 24,
   "id": "221ad43b",
   "metadata": {},
   "outputs": [
    {
     "name": "stdout",
     "output_type": "stream",
     "text": [
      "Factorial of 1is:\n",
      "1\n",
      "Factorial of 2is:\n",
      "1\n",
      "2\n",
      "Factorial of 3is:\n",
      "1\n",
      "2\n",
      "6\n"
     ]
    }
   ],
   "source": [
    "n=range(1,4)\n",
    "for j in n:\n",
    "    print(\"Factorial of \"+str(j)+\"is:\")\n",
    "    mul=1\n",
    "    for i in range(1,j+1):\n",
    "        mul=mul*i\n",
    "        print(mul)"
   ]
  },
  {
   "cell_type": "markdown",
   "id": "cf1df36c",
   "metadata": {},
   "source": [
    "6.Python program to rotate right about a given position in that list and display them."
   ]
  },
  {
   "cell_type": "code",
   "execution_count": 14,
   "id": "26d52e3b",
   "metadata": {},
   "outputs": [
    {
     "name": "stdout",
     "output_type": "stream",
     "text": [
      "enter integer number:45687\n",
      "the reverse number is :78654\n"
     ]
    }
   ],
   "source": [
    "number=int(input(\"enter integer number:\"))\n",
    "revs_number=0\n",
    "while(number>0):\n",
    "    remainder=number%10\n",
    "    revs_number=((revs_number)*10)+remainder\n",
    "    number=number//10\n",
    "print(\"the reverse number is :{}\". format(revs_number))    \n",
    "    "
   ]
  },
  {
   "cell_type": "markdown",
   "id": "ed9edcd9",
   "metadata": {},
   "source": [
    "7.Develop a python script to interchange the digits of a given integer number\n"
   ]
  },
  {
   "cell_type": "code",
   "execution_count": 21,
   "id": "9f5058c5",
   "metadata": {},
   "outputs": [
    {
     "name": "stdout",
     "output_type": "stream",
     "text": [
      "enter the user input:23456\n",
      "enter the 1st person which you want to swap:3\n",
      "enter the 2st person which you want to swap:5\n",
      "original number : 23456\n",
      "interchanged number: 23654\n"
     ]
    }
   ],
   "source": [
    "def interchange_digits(number,pos1,pos2):\n",
    "    number_str=str(number)\n",
    "    number_list=list(number_str)\n",
    "    number_list[pos1-1],number_list[pos2-1]=number_list[pos2-1],number_list[pos1-1]\n",
    "    interchanged_number=int(''.join(number_list))\n",
    "    return interchanged_number\n",
    "number=int(input('enter the user input:'))\n",
    "pos1=int(input('enter the 1st person which you want to swap:'))\n",
    "pos2=int(input('enter the 2nd person which you want to swap:'))\n",
    "interchanged_number=interchange_digits(number,pos1,pos2)\n",
    "print('original number :',number)\n",
    "print('interchanged number:',interchanged_number)"
   ]
  },
  {
   "cell_type": "code",
   "execution_count": 22,
   "id": "81f37886",
   "metadata": {},
   "outputs": [
    {
     "name": "stdout",
     "output_type": "stream",
     "text": [
      "enter a natural number:5\n",
      "12345"
     ]
    }
   ],
   "source": [
    "n=int(input(\"enter a natural number:\"))\n",
    "i=1\n",
    "while i<=n:\n",
    "    print(i, end='')\n",
    "    i+=1"
   ]
  },
  {
   "cell_type": "code",
   "execution_count": 24,
   "id": "14917dbb",
   "metadata": {},
   "outputs": [
    {
     "name": "stdout",
     "output_type": "stream",
     "text": [
      "enter a natural number:10\n",
      "246810"
     ]
    }
   ],
   "source": [
    "n=int(input(\"enter a natural number:\"))\n",
    "i=2\n",
    "while i<=n:\n",
    "    print(i, end='')\n",
    "    i+=2"
   ]
  },
  {
   "cell_type": "code",
   "execution_count": 25,
   "id": "ca6cad26",
   "metadata": {},
   "outputs": [
    {
     "name": "stdout",
     "output_type": "stream",
     "text": [
      "enter a natural number:10\n",
      "13579"
     ]
    }
   ],
   "source": [
    "n=int(input(\"enter a natural number:\"))\n",
    "i=1\n",
    "while i<=n:\n",
    "    print(i, end='')\n",
    "    i+=2"
   ]
  },
  {
   "cell_type": "code",
   "execution_count": 26,
   "id": "ffbd35ac",
   "metadata": {},
   "outputs": [
    {
     "name": "stdout",
     "output_type": "stream",
     "text": [
      "enter a natural number:20\n",
      "the sum of natural mo. upto  20 is: 210\n"
     ]
    }
   ],
   "source": [
    "n=int(input(\"enter a natural number:\"))\n",
    "total_sum=0\n",
    "i=1\n",
    "while i<=n:\n",
    "    total_sum+=i\n",
    "    i+=1\n",
    "print(\"the sum of natural mo. upto \",n,\"is:\",total_sum)    "
   ]
  },
  {
   "cell_type": "markdown",
   "id": "66566e6b",
   "metadata": {},
   "source": [
    "8. Develop a python program to capitalize a given list\n",
    "\n"
   ]
  },
  {
   "cell_type": "code",
   "execution_count": 7,
   "id": "70e96207",
   "metadata": {},
   "outputs": [
    {
     "name": "stdout",
     "output_type": "stream",
     "text": [
      "['Hello', 'Good', 'How', 'Simple']\n"
     ]
    }
   ],
   "source": [
    "def capitalize_strings(string_list):\n",
    "    return[s.capitalize() for s in string_list]\n",
    "input_strings=['hello','good','how','simple']\n",
    "capitalized_strings=capitalize_strings(input_strings)\n",
    "print(capitalized_strings)"
   ]
  },
  {
   "cell_type": "markdown",
   "id": "e6cb5184",
   "metadata": {},
   "source": [
    "9.Using a dictionary ,develop a python program to determine and print the number of duplicate words in a sentence"
   ]
  },
  {
   "cell_type": "code",
   "execution_count": 21,
   "id": "bfe8b438",
   "metadata": {},
   "outputs": [
    {
     "name": "stdout",
     "output_type": "stream",
     "text": [
      "enter a sentence:hi i am tom, hi i am jerry\n",
      "Duplicate words om their counts:\n",
      "hi:2\n",
      "i:2\n",
      "am:2\n"
     ]
    }
   ],
   "source": [
    "def count_duplicate_words(sentence):\n",
    "    words=sentence.split()\n",
    "    word_count={}\n",
    "    for word in words:\n",
    "        word=word.lower()\n",
    "        if word in word_count:\n",
    "            word_count[word]+=1\n",
    "        else:\n",
    "            word_count[word]=1\n",
    "    duplicates={word:count for word,count in word_count.items() if count>1}\n",
    "    if duplicates:\n",
    "        print(\"Duplicate words om their counts:\")\n",
    "        for word,count in duplicates.items():\n",
    "            print(f\"{word}:{count}\")\n",
    "    else:\n",
    "        print(\"no duplicate wors found\")\n",
    "sentence=input(\"enter a sentence:\")\n",
    "count_duplicate_words(sentence)"
   ]
  },
  {
   "cell_type": "code",
   "execution_count": 34,
   "id": "e69f76a6",
   "metadata": {},
   "outputs": [
    {
     "name": "stdout",
     "output_type": "stream",
     "text": [
      "{'name': 'Jessa', 10: 'Mobile'}\n",
      "{'name': 'Jessa', 'telephone': [1178, 2563, 4569]}\n",
      "{'11': 0, '1': 0, '5': 0, '7': 0, '12': 0, '23': 0}\n"
     ]
    }
   ],
   "source": [
    "sample_dict={\"name\":\"Jessa\",10:\"Mobile\"}\n",
    "print(sample_dict)\n",
    "person={\"name\":\"Jessa\",\"telephone\":[1178,2563,4569]}\n",
    "print(person)\n",
    "keys={'12','23','1','5','7','11'}\n",
    "value=0\n",
    "sample=dict.fromkeys(keys,value)\n",
    "print(sample)"
   ]
  },
  {
   "cell_type": "code",
   "execution_count": 33,
   "id": "8f6ef9b3",
   "metadata": {},
   "outputs": [
    {
     "name": "stdout",
     "output_type": "stream",
     "text": [
      "Delhi\n"
     ]
    }
   ],
   "source": [
    "d_state={1:'Delhi',2:'Mumbai',3:'Chennai',4:'Kolkata'}\n",
    "print(d_state.get(1))"
   ]
  },
  {
   "cell_type": "code",
   "execution_count": 37,
   "id": "da30f0cd",
   "metadata": {},
   "outputs": [
    {
     "data": {
      "text/plain": [
       "dict_keys([1, 2, 3, 4])"
      ]
     },
     "execution_count": 37,
     "metadata": {},
     "output_type": "execute_result"
    }
   ],
   "source": [
    "dict_state={1:'Delhi',2:'Mumbai',3:'Chennai',4:'Kolkata'}\n",
    "dict_state.keys()\n"
   ]
  },
  {
   "cell_type": "code",
   "execution_count": 38,
   "id": "4671bdd7",
   "metadata": {},
   "outputs": [
    {
     "data": {
      "text/plain": [
       "dict_values(['Delhi', 'Mumbai', 'Chennai', 'Kolkata'])"
      ]
     },
     "execution_count": 38,
     "metadata": {},
     "output_type": "execute_result"
    }
   ],
   "source": [
    "d_state={1:'Delhi',2:'Mumbai',3:'Chennai',4:'Kolkata'}\n",
    "d_state.values()\n"
   ]
  },
  {
   "cell_type": "markdown",
   "id": "17b0d83d",
   "metadata": {},
   "source": [
    "10.Develop a python program to read NumPy array and print row(sum,mean,std)and column(sum,mean,std)"
   ]
  },
  {
   "cell_type": "code",
   "execution_count": 3,
   "id": "510d882e",
   "metadata": {},
   "outputs": [
    {
     "name": "stdout",
     "output_type": "stream",
     "text": [
      "numpy array\n",
      "[[1 2 3]\n",
      " [4 5 6]]\n",
      "_______________\n",
      "row sum\n",
      "[ 6 15]\n",
      "column sum\n",
      "[5 7 9]\n",
      "_______________\n",
      "row mean\n",
      "[2. 5.]\n",
      "column mean\n",
      "[2.5 3.5 4.5]\n",
      "_______________\n",
      "row STD\n",
      "[0.81649658 0.81649658]\n",
      "column STD\n",
      "[1.5 1.5 1.5]\n"
     ]
    }
   ],
   "source": [
    "from numpy import asarray\n",
    "data=[[1,2,3],[4,5,6]]\n",
    "data=asarray(data )\n",
    "print(\"numpy array\")\n",
    "print(data)\n",
    "print(\"_______________\")\n",
    "totalr=data.sum(axis=1)\n",
    "totalc=data.sum(axis=0)\n",
    "print(\"row sum\")\n",
    "print(totalr)\n",
    "print(\"column sum\")\n",
    "print(totalc)\n",
    "print(\"_______________\")\n",
    "meanr=data.mean(axis=1)\n",
    "meanc=data.mean(axis=0)\n",
    "print(\"row mean\")\n",
    "print(meanr)\n",
    "print(\"column mean\")\n",
    "print(meanc)\n",
    "print(\"_______________\")\n",
    "stdr=data.std(axis=1)\n",
    "stdc=data.std(axis=0)\n",
    "print(\"row STD\")\n",
    "print(stdr)\n",
    "print(\"column STD\")\n",
    "print(stdc)"
   ]
  },
  {
   "cell_type": "code",
   "execution_count": null,
   "id": "a7a21a3f",
   "metadata": {},
   "outputs": [],
   "source": []
  }
 ],
 "metadata": {
  "kernelspec": {
   "display_name": "Python 3 (ipykernel)",
   "language": "python",
   "name": "python3"
  },
  "language_info": {
   "codemirror_mode": {
    "name": "ipython",
    "version": 3
   },
   "file_extension": ".py",
   "mimetype": "text/x-python",
   "name": "python",
   "nbconvert_exporter": "python",
   "pygments_lexer": "ipython3",
   "version": "3.10.9"
  }
 },
 "nbformat": 4,
 "nbformat_minor": 5
}
