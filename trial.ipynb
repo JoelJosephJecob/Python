{
 "cells": [
  {
   "cell_type": "code",
   "execution_count": 2,
   "id": "86ff4ff5",
   "metadata": {},
   "outputs": [
    {
     "name": "stdout",
     "output_type": "stream",
     "text": [
      "G,f,G\n",
      "89,12,2015\n"
     ]
    }
   ],
   "source": [
    "print('G','f',sep=',',end=',')\n",
    "print('G')\n",
    "print('89','12','2015',sep=',',end='\\n')"
   ]
  },
  {
   "cell_type": "code",
   "execution_count": 3,
   "id": "8a251bec",
   "metadata": {},
   "outputs": [
    {
     "name": "stdout",
     "output_type": "stream",
     "text": [
      "integer: 1,float: 5.33\n",
      "Total Player: 24,batsman:12\n",
      "  062\n",
      "  4.53E+01\n"
     ]
    }
   ],
   "source": [
    "print(\"integer:%2d,float:%5.2f\"%(1,5.3333333))\n",
    "print(\"Total Player:%3d,batsman:%2d\"%(24,12))\n",
    "print(\"%5.3o\"%(50))\n",
    "print(\"%10.2E\"%(45.333))"
   ]
  },
  {
   "cell_type": "code",
   "execution_count": 7,
   "id": "19ef69fa",
   "metadata": {},
   "outputs": [
    {
     "ename": "SyntaxError",
     "evalue": "unmatched ')' (625912882.py, line 1)",
     "output_type": "error",
     "traceback": [
      "\u001b[0;36m  Cell \u001b[0;32mIn[7], line 1\u001b[0;36m\u001b[0m\n\u001b[0;31m    txt1=\"My name is {fname},I'm{age}\".format(fname=\"John\",age=36))\u001b[0m\n\u001b[0m                                                                  ^\u001b[0m\n\u001b[0;31mSyntaxError\u001b[0m\u001b[0;31m:\u001b[0m unmatched ')'\n"
     ]
    }
   ],
   "source": [
    "txt1=\"My name is {fname},I'm{age}\",format(fname=\"John\",age=36)\n",
    "txt2=\"My name is {0},I'm{age}\",format{\"John\",36)\n",
    "\n"
   ]
  },
  {
   "cell_type": "code",
   "execution_count": 10,
   "id": "2aaf7d50",
   "metadata": {},
   "outputs": [
    {
     "name": "stdout",
     "output_type": "stream",
     "text": [
      "enter the number greater than zero: 45\n",
      "floor of square root of a number  6\n",
      "not a perfect square root \n"
     ]
    }
   ],
   "source": [
    "import math\n",
    "num=float(input(\"enter the number greater than zero: \"))\n",
    "sqrtNum=math.floor(num**0.5)\n",
    "print(\"floor of square root of a number \",sqrtNum)\n",
    "sqNum=sqrtNum*sqrtNum\n",
    "if(sqNum==num):\n",
    "    print(\"perfect square\")\n",
    "else:\n",
    "    print(\"not a perfect square root \")"
   ]
  },
  {
   "cell_type": "code",
   "execution_count": null,
   "id": "8cfb287d",
   "metadata": {},
   "outputs": [],
   "source": []
  }
 ],
 "metadata": {
  "kernelspec": {
   "display_name": "Python 3 (ipykernel)",
   "language": "python",
   "name": "python3"
  },
  "language_info": {
   "codemirror_mode": {
    "name": "ipython",
    "version": 3
   },
   "file_extension": ".py",
   "mimetype": "text/x-python",
   "name": "python",
   "nbconvert_exporter": "python",
   "pygments_lexer": "ipython3",
   "version": "3.10.9"
  }
 },
 "nbformat": 4,
 "nbformat_minor": 5
}
